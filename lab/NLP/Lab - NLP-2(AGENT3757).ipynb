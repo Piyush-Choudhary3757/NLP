{
 "cells": [
  {
   "cell_type": "code",
   "execution_count": 2,
   "id": "c610b632",
   "metadata": {
    "scrolled": true
   },
   "outputs": [
    {
     "name": "stdout",
     "output_type": "stream",
     "text": [
      "Enter a line: this is good\n",
      "Words in string are:  ['this', 'is', 'good']\n",
      "Total number of word in string are : 3\n"
     ]
    }
   ],
   "source": [
    "from nltk.tokenize import RegexpTokenizer\n",
    "\n",
    "tokenizer = RegexpTokenizer(r'\\w+')\n",
    "\n",
    "string= input(\"Enter a line: \")\n",
    "s_string = tokenizer.tokenize(string)\n",
    "print(\"Words in string are: \", s_string)\n",
    "print(\"Total number of word in string are :\", len(s_string))"
   ]
  },
  {
   "cell_type": "code",
   "execution_count": 3,
   "id": "936b6aa0",
   "metadata": {},
   "outputs": [
    {
     "name": "stdout",
     "output_type": "stream",
     "text": [
      "length of each word is:\n",
      " {'this': 4, 'is': 2, 'good': 4}\n"
     ]
    }
   ],
   "source": [
    "word_length = {}\n",
    "def length(word):\n",
    "    return len(word)\n",
    "for i in s_string:\n",
    "    a = length(i)\n",
    "    word_length[i] = a\n",
    "    \n",
    "print(\"length of each word is:\\n\",word_length)"
   ]
  },
  {
   "cell_type": "code",
   "execution_count": null,
   "id": "51470870",
   "metadata": {},
   "outputs": [],
   "source": []
  }
 ],
 "metadata": {
  "kernelspec": {
   "display_name": "Python 3 (ipykernel)",
   "language": "python",
   "name": "python3"
  },
  "language_info": {
   "codemirror_mode": {
    "name": "ipython",
    "version": 3
   },
   "file_extension": ".py",
   "mimetype": "text/x-python",
   "name": "python",
   "nbconvert_exporter": "python",
   "pygments_lexer": "ipython3",
   "version": "3.8.11"
  }
 },
 "nbformat": 4,
 "nbformat_minor": 5
}
