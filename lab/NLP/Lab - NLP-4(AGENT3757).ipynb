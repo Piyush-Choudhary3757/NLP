{
 "cells": [
  {
   "cell_type": "code",
   "execution_count": 1,
   "metadata": {},
   "outputs": [
    {
     "name": "stdout",
     "output_type": "stream",
     "text": [
      "original text: ['otput', 'computrr', 'classs', 'wnderfull']\n",
      "corrected text: [TextBlob(\"output\"), TextBlob(\"computer\"), TextBlob(\"class\"), TextBlob(\"wonderful\")]\n"
     ]
    }
   ],
   "source": [
    "from textblob import TextBlob\n",
    "\n",
    "a = ['otput', 'computrr', 'classs', 'wnderfull'] # incorrect spelling\n",
    "print(\"original text:\",a)\n",
    "\n",
    "x= []\n",
    "for i in a:\n",
    "    b = TextBlob(i)\n",
    "    x.append(b.correct())\n",
    "\n",
    "print('corrected text:',x) # correct spelling"
   ]
  },
  {
   "cell_type": "code",
   "execution_count": 4,
   "metadata": {},
   "outputs": [
    {
     "name": "stdout",
     "output_type": "stream",
     "text": [
      "[TextBlob(\"output\"), TextBlob(\"computer\"), TextBlob(\"class\"), TextBlob(\"wonderful\")]\n"
     ]
    }
   ],
   "source": [
    "y = [TextBlob(i).correct() for i in a]\n",
    "print(y)"
   ]
  }
 ],
 "metadata": {
  "interpreter": {
   "hash": "283eefc7a86302843e16408840969a2c458297068dd591d9a67e0f8fd1f7649e"
  },
  "kernelspec": {
   "display_name": "Python 3.10.2 64-bit (windows store)",
   "language": "python",
   "name": "python3"
  },
  "language_info": {
   "codemirror_mode": {
    "name": "ipython",
    "version": 3
   },
   "file_extension": ".py",
   "mimetype": "text/x-python",
   "name": "python",
   "nbconvert_exporter": "python",
   "pygments_lexer": "ipython3",
   "version": "3.10.2"
  },
  "orig_nbformat": 4
 },
 "nbformat": 4,
 "nbformat_minor": 2
}
