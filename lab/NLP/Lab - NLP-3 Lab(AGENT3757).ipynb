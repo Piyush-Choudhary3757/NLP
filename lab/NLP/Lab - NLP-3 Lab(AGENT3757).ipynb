{
 "cells": [
  {
   "cell_type": "markdown",
   "id": "99bd0c2a",
   "metadata": {},
   "source": []
  },
  {
   "cell_type": "markdown",
   "id": "2ab8db79",
   "metadata": {},
   "source": [
    "# NLP LAB 2 PIYUSH CHOUDHARY"
   ]
  },
  {
   "cell_type": "markdown",
   "id": "88857edc",
   "metadata": {},
   "source": [
    "# count number of word"
   ]
  },
  {
   "cell_type": "code",
   "execution_count": 1,
   "id": "58074acf",
   "metadata": {},
   "outputs": [
    {
     "name": "stdout",
     "output_type": "stream",
     "text": [
      "The orignal string is :  \n",
      "The number of word are : 0\n"
     ]
    }
   ],
   "source": [
    "# 1-count number of word\n",
    "string = input (\"Enter a line \")\n",
    "print(\"The orignal string is : \",string)\n",
    "wc= len(string.split())\n",
    "print(\"The number of word are :\",wc)"
   ]
  },
  {
   "cell_type": "markdown",
   "id": "0a2b92bc",
   "metadata": {},
   "source": [
    "# Tokenizing and count the words"
   ]
  },
  {
   "cell_type": "code",
   "execution_count": 2,
   "id": "1731ecd9",
   "metadata": {},
   "outputs": [],
   "source": [
    "# 2-tokenizing and count the words\n",
    "import nltk\n",
    "from nltk.tokenize import RegexpTokenizer\n",
    "tokenizer = RegexpTokenizer(r'\\w+')"
   ]
  },
  {
   "cell_type": "code",
   "execution_count": 3,
   "id": "0663cdcc",
   "metadata": {},
   "outputs": [
    {
     "name": "stdout",
     "output_type": "stream",
     "text": [
      "words in string are  []\n",
      "Total number of word in string are : 0\n"
     ]
    }
   ],
   "source": [
    "string= input(\"Enter a line: \")\n",
    "s_string = tokenizer.tokenize(string)\n",
    "print(\"words in string are \",s_string)\n",
    "print(\"Total number of word in string are :\",len(s_string))"
   ]
  },
  {
   "cell_type": "markdown",
   "id": "f7364837",
   "metadata": {},
   "source": [
    "# Programs to count repeated words"
   ]
  },
  {
   "cell_type": "code",
   "execution_count": 4,
   "id": "53ab3341",
   "metadata": {},
   "outputs": [
    {
     "name": "stdout",
     "output_type": "stream",
     "text": [
      "This word is not in the sentence\n",
      "0\n"
     ]
    }
   ],
   "source": [
    "# 3-Programs to count repeated words\n",
    "b = 0\n",
    "a = input(\"Enter a word to search in the senten : \")\n",
    "for i in s_string:\n",
    "    if i == a:\n",
    "        b = b+1\n",
    "if b == 0:\n",
    "    print(\"This word is not in the sentence\")\n",
    "print(b)"
   ]
  },
  {
   "cell_type": "markdown",
   "id": "df9ed6fa",
   "metadata": {},
   "source": [
    "# Programs for spelling checker using TextBlob"
   ]
  },
  {
   "cell_type": "code",
   "execution_count": 5,
   "id": "498df9fe",
   "metadata": {},
   "outputs": [
    {
     "name": "stdout",
     "output_type": "stream",
     "text": [
      "Requirement already satisfied: textblob in c:\\users\\piyus\\appdata\\local\\packages\\pythonsoftwarefoundation.python.3.10_qbz5n2kfra8p0\\localcache\\local-packages\\python310\\site-packages (0.17.1)\n",
      "Requirement already satisfied: nltk>=3.1 in c:\\users\\piyus\\appdata\\local\\packages\\pythonsoftwarefoundation.python.3.10_qbz5n2kfra8p0\\localcache\\local-packages\\python310\\site-packages (from textblob) (3.7)\n",
      "Requirement already satisfied: regex>=2021.8.3 in c:\\users\\piyus\\appdata\\local\\packages\\pythonsoftwarefoundation.python.3.10_qbz5n2kfra8p0\\localcache\\local-packages\\python310\\site-packages (from nltk>=3.1->textblob) (2022.1.18)\n",
      "Requirement already satisfied: joblib in c:\\users\\piyus\\appdata\\local\\packages\\pythonsoftwarefoundation.python.3.10_qbz5n2kfra8p0\\localcache\\local-packages\\python310\\site-packages (from nltk>=3.1->textblob) (1.1.0)\n",
      "Requirement already satisfied: click in c:\\users\\piyus\\appdata\\local\\packages\\pythonsoftwarefoundation.python.3.10_qbz5n2kfra8p0\\localcache\\local-packages\\python310\\site-packages (from nltk>=3.1->textblob) (8.0.4)\n",
      "Requirement already satisfied: tqdm in c:\\users\\piyus\\appdata\\local\\packages\\pythonsoftwarefoundation.python.3.10_qbz5n2kfra8p0\\localcache\\local-packages\\python310\\site-packages (from nltk>=3.1->textblob) (4.62.3)\n",
      "Requirement already satisfied: colorama in c:\\users\\piyus\\appdata\\local\\packages\\pythonsoftwarefoundation.python.3.10_qbz5n2kfra8p0\\localcache\\local-packages\\python310\\site-packages (from click->nltk>=3.1->textblob) (0.4.4)\n"
     ]
    }
   ],
   "source": [
    "# install Textblob\n",
    "import sys\n",
    "!{sys.executable} -m pip install textblob"
   ]
  },
  {
   "cell_type": "code",
   "execution_count": 6,
   "id": "553201ca",
   "metadata": {},
   "outputs": [
    {
     "name": "stdout",
     "output_type": "stream",
     "text": [
      "Original text : computerr\n",
      "correct text : computer\n"
     ]
    }
   ],
   "source": [
    "from textblob import TextBlob\n",
    "#incorrect word\n",
    "a='computerr' #incorrect spelling\n",
    "\n",
    "print('Original text :',a)\n",
    "\n",
    "b = TextBlob(a)\n",
    "#print the correct spelling\n",
    "print('correct text :',b.correct())"
   ]
  }
 ],
 "metadata": {
  "kernelspec": {
   "display_name": "Python 3 (ipykernel)",
   "language": "python",
   "name": "python3"
  },
  "language_info": {
   "codemirror_mode": {
    "name": "ipython",
    "version": 3
   },
   "file_extension": ".py",
   "mimetype": "text/x-python",
   "name": "python",
   "nbconvert_exporter": "python",
   "pygments_lexer": "ipython3",
   "version": "3.10.2"
  }
 },
 "nbformat": 4,
 "nbformat_minor": 5
}
