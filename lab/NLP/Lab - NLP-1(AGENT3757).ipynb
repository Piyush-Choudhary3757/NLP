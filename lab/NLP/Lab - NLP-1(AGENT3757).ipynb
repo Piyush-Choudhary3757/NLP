{
 "cells": [
  {
   "cell_type": "code",
   "execution_count": 1,
   "id": "f21af738",
   "metadata": {
    "scrolled": true
   },
   "outputs": [],
   "source": [
    "#for installation (!pip install nltk)"
   ]
  },
  {
   "cell_type": "code",
   "execution_count": 2,
   "id": "c9066ea9",
   "metadata": {},
   "outputs": [],
   "source": [
    "#import \n",
    "import nltk"
   ]
  },
  {
   "cell_type": "code",
   "execution_count": 3,
   "id": "cecab258",
   "metadata": {
    "scrolled": true
   },
   "outputs": [
    {
     "name": "stderr",
     "output_type": "stream",
     "text": [
      "[nltk_data] Downloading package stopwords to\n",
      "[nltk_data]     C:\\Users\\piyus\\AppData\\Roaming\\nltk_data...\n",
      "[nltk_data]   Package stopwords is already up-to-date!\n"
     ]
    },
    {
     "data": {
      "text/plain": [
       "True"
      ]
     },
     "execution_count": 3,
     "metadata": {},
     "output_type": "execute_result"
    }
   ],
   "source": [
    "nltk.download('stopwords')"
   ]
  },
  {
   "cell_type": "code",
   "execution_count": 4,
   "id": "5dfc93ca",
   "metadata": {},
   "outputs": [],
   "source": [
    "import nltk \n",
    "from nltk.corpus import stopwords\n",
    "from nltk.tokenize import word_tokenize, sent_tokenize"
   ]
  },
  {
   "cell_type": "code",
   "execution_count": 5,
   "id": "1661ef15",
   "metadata": {},
   "outputs": [],
   "source": [
    "stop_words = set(stopwords.words('english'))"
   ]
  },
  {
   "cell_type": "code",
   "execution_count": 6,
   "id": "e3d92de0",
   "metadata": {},
   "outputs": [
    {
     "name": "stdout",
     "output_type": "stream",
     "text": [
      "[('Sukanya', 'NNP'), (',', ','), ('Rajib', 'NNP'), ('naba', 'RB'), ('good', 'JJ'), ('friends.sukanya', 'NN'), ('getting', 'VBG'), ('married', 'VBD'), ('next', 'JJ'), ('yearMarriage', 'NN'), ('big', 'JJ'), ('step', 'NN'), ('one', 'CD'), ('yearit', 'NN'), ('bouth', 'NN'), ('exciting', 'VBG'), ('frightening.but', 'JJ'), ('friendship', 'NN'), ('scared', 'VBD'), ('bond', 'NN'), ('people.It', 'NN'), ('special', 'JJ'), ('kind', 'NN'), ('love', 'NN'), ('us.many', 'NN'), ('must', 'MD'), ('tried', 'VB'), ('searching', 'VBG'), ('friendbut', 'NN'), ('never', 'RB'), ('found', 'VBD'), ('right', 'JJ'), ('one', 'CD'), ('.', '.')]\n"
     ]
    }
   ],
   "source": [
    "# Dummy text \n",
    "txt = \"Sukanya, Rajib and naba are good friends.\"\\\n",
    "    \"sukanya is getting married next year\"\\\n",
    "    \"Marriage is a big step in one year\"\\\n",
    "    \"it is bouth exciting and frightening.\"\\\n",
    "    \"but friendship is a scared bond between people.\"\\\n",
    "    \"It is a special kind of love between us.\"\\\n",
    "    \"many of you must have tried searching for a friend\"\\\n",
    "    \"but never found the right one.\"\n",
    "\n",
    "# Sent_token is one of instances of \n",
    "# punktSentenceTockenizer from the nltk.tokenize.punkt module\n",
    "\n",
    "tokenized = sent_tokenize(txt)\n",
    "for i in tokenized:\n",
    "    \n",
    "    # Word tokenizers is used to find the words\n",
    "    # and punctuation  is a string\n",
    "    wordsList = nltk.word_tokenize(i)\n",
    "    \n",
    "    # remove stop word from worldList\n",
    "    wordsList = [w for w in wordsList if not w in stop_words]\n",
    "    \n",
    "    #usind a Tagger. which is part-of-speech\n",
    "    # tagger or POS-tagger\n",
    "    tagged = nltk.pos_tag(wordsList)\n",
    "    \n",
    "    print(tagged)"
   ]
  },
  {
   "cell_type": "code",
   "execution_count": 7,
   "id": "d7ebc91b",
   "metadata": {},
   "outputs": [
    {
     "name": "stderr",
     "output_type": "stream",
     "text": [
      "[nltk_data] Downloading package averaged_perceptron_tagger to\n",
      "[nltk_data]     C:\\Users\\piyus\\AppData\\Roaming\\nltk_data...\n",
      "[nltk_data]   Package averaged_perceptron_tagger is already up-to-\n",
      "[nltk_data]       date!\n"
     ]
    },
    {
     "data": {
      "text/plain": [
       "True"
      ]
     },
     "execution_count": 7,
     "metadata": {},
     "output_type": "execute_result"
    }
   ],
   "source": [
    "import nltk\n",
    "nltk.download('averaged_perceptron_tagger')"
   ]
  },
  {
   "cell_type": "code",
   "execution_count": 8,
   "id": "fd5d854c",
   "metadata": {},
   "outputs": [
    {
     "name": "stderr",
     "output_type": "stream",
     "text": [
      "[nltk_data] Downloading package punkt to\n",
      "[nltk_data]     C:\\Users\\piyus\\AppData\\Roaming\\nltk_data...\n",
      "[nltk_data]   Package punkt is already up-to-date!\n"
     ]
    },
    {
     "data": {
      "text/plain": [
       "True"
      ]
     },
     "execution_count": 8,
     "metadata": {},
     "output_type": "execute_result"
    }
   ],
   "source": [
    "import nltk\n",
    "nltk.download('punkt')"
   ]
  },
  {
   "cell_type": "code",
   "execution_count": 9,
   "id": "1df3de97",
   "metadata": {
    "scrolled": true
   },
   "outputs": [
    {
     "name": "stderr",
     "output_type": "stream",
     "text": [
      "[nltk_data] Downloading package stopwords to\n",
      "[nltk_data]     C:\\Users\\piyus\\AppData\\Roaming\\nltk_data...\n",
      "[nltk_data]   Package stopwords is already up-to-date!\n"
     ]
    },
    {
     "data": {
      "text/plain": [
       "True"
      ]
     },
     "execution_count": 9,
     "metadata": {},
     "output_type": "execute_result"
    }
   ],
   "source": [
    "nltk.download('stopwords')"
   ]
  },
  {
   "cell_type": "code",
   "execution_count": 10,
   "id": "a25a806e",
   "metadata": {},
   "outputs": [
    {
     "name": "stdout",
     "output_type": "stream",
     "text": [
      "['Sukanya, Rajib and naba are good friends.sukanya is getting married next yearMarriage is a big step in one yeait is bouth exciting and frightening.but friendship is a scared bond between people.It is a special kind of love between us.many of you must have tried searching for a friendbut never found the right one.']\n"
     ]
    }
   ],
   "source": [
    "# Dummy text \n",
    "txt = \"Sukanya, Rajib and naba are good friends.\"\\\n",
    "    \"sukanya is getting married next year\"\\\n",
    "    \"Marriage is a big step in one yea\"\\\n",
    "    \"it is bouth exciting and frightening.\"\\\n",
    "    \"but friendship is a scared bond between people.\"\\\n",
    "    \"It is a special kind of love between us.\"\\\n",
    "    \"many of you must have tried searching for a friend\"\\\n",
    "    \"but never found the right one.\"\n",
    "\n",
    "# Sent_token is one of instances of \n",
    "# punktSentenceTockenizer from the nltk.tokenize module\n",
    "\n",
    "tokenized = sent_tokenize(txt)\n",
    "print(tokenized)"
   ]
  },
  {
   "cell_type": "code",
   "execution_count": 11,
   "id": "9fd23226",
   "metadata": {
    "scrolled": true
   },
   "outputs": [
    {
     "name": "stdout",
     "output_type": "stream",
     "text": [
      "{\"wasn't\", 'because', 'myself', 're', 'these', 'more', 'ain', 'if', 'few', 'hasn', 'after', 'this', 'same', 'as', \"mustn't\", 'her', 'the', 'each', 'for', 'only', 'against', 'shouldn', 'out', 'wasn', \"weren't\", 'below', 'themselves', 'other', 'with', 'all', 'm', 'isn', 'having', 'whom', 'and', 'has', \"wouldn't\", 'now', 'most', 'couldn', 'you', 'are', 'into', 'under', 's', 'mustn', 'y', 'from', \"it's\", 'before', 'he', 'they', \"hasn't\", 'no', \"didn't\", 'your', 'wouldn', 'a', 'again', 'ours', 'yourself', 'him', 'so', 'herself', 'she', 'been', 'ma', 'over', 'itself', 'through', 'is', 'between', 'should', 'his', 'me', 'just', \"you've\", \"shouldn't\", 'than', \"isn't\", \"you're\", \"hadn't\", \"needn't\", \"she's\", 'that', 'not', 'of', 'but', \"you'd\", 'further', 'during', 'any', 'had', 'i', 'shan', 'then', 'weren', 'own', 'until', 'above', 'am', 'our', 'who', 'once', 'why', 've', 'can', \"haven't\", 'do', 'aren', \"aren't\", 'doing', 'at', 'up', 'off', 'will', 'its', 'them', 'both', 'what', \"should've\", 'does', 'too', 'when', 'ourselves', 'have', 'in', \"mightn't\", 'hers', 'an', \"don't\", 'here', 'd', 'we', 'mightn', \"couldn't\", 'yours', 'those', 'their', \"that'll\", 'was', 'about', 'hadn', \"doesn't\", 'such', 'o', 'nor', 'by', 'yourselves', 'how', 'very', 'some', 't', 'don', 'to', \"you'll\", 'there', \"won't\", 'll', 'on', 'it', 'needn', 'be', 'or', 'won', 'while', 'did', 'haven', 'my', 'doesn', 'down', 'which', 'where', \"shan't\", 'being', 'were', 'theirs', 'didn', 'himself'}\n"
     ]
    }
   ],
   "source": [
    "print(stop_words)"
   ]
  }
 ],
 "metadata": {
  "kernelspec": {
   "display_name": "Python 3 (ipykernel)",
   "language": "python",
   "name": "python3"
  },
  "language_info": {
   "codemirror_mode": {
    "name": "ipython",
    "version": 3
   },
   "file_extension": ".py",
   "mimetype": "text/x-python",
   "name": "python",
   "nbconvert_exporter": "python",
   "pygments_lexer": "ipython3",
   "version": "3.10.2"
  }
 },
 "nbformat": 4,
 "nbformat_minor": 5
}
